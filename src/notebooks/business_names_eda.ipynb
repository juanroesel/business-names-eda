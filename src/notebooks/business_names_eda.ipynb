{
 "cells": [
  {
   "cell_type": "markdown",
   "id": "4dafa32c-dc03-45d3-986e-ba995bf9b196",
   "metadata": {},
   "source": [
    "# Introduction"
   ]
  },
  {
   "cell_type": "markdown",
   "id": "260ac002-8e2c-4576-bfac-482242d5d8fb",
   "metadata": {},
   "source": [
    "# Methodology\n",
    "\n",
    "- Descriptive statistics to get general sense of variables\n",
    "- BERT vectors to perform density-based clustering and evaluate relationships between text vectors\n"
   ]
  },
  {
   "cell_type": "markdown",
   "id": "2377f26b-80c1-43f7-963a-c92d2cf74909",
   "metadata": {},
   "source": [
    "# Setup"
   ]
  },
  {
   "cell_type": "code",
   "execution_count": 2,
   "id": "510692e3-96b3-46bc-b5fb-4bf95b409b59",
   "metadata": {},
   "outputs": [],
   "source": [
    "# Data analysis\n",
    "import numpy as np\n",
    "import pandas as pd\n",
    "from pandas_profiling import ProfileReport\n",
    "\n",
    "# ML / NLP\n",
    "import spacy\n",
    "nlp = spacy.load(\"en_core_web_trf\")\n",
    "\n",
    "# Data viz\n",
    "import seaborn as sns\n",
    "import matplotlib.pyplot as plt\n",
    "\n",
    "# Internal modules\n",
    "import os, sys\n",
    "MODULES_PATH = os.path.abspath(\"..\")\n",
    "if not MODULES_PATH in sys.path:\n",
    "    sys.path.append(MODULES_PATH)"
   ]
  },
  {
   "cell_type": "code",
   "execution_count": 9,
   "id": "d8287b6b-9e3d-449e-aa7d-69cbe21d8b59",
   "metadata": {},
   "outputs": [],
   "source": [
    "data_path = os.path.abspath(\"../../data\")\n",
    "df = pd.read_csv(data_path + \"/companies_sorted.csv\")"
   ]
  },
  {
   "cell_type": "markdown",
   "id": "c384c41d-b37f-44ae-a5d1-fe9bc371f69c",
   "metadata": {},
   "source": [
    "# Descriptive statistics"
   ]
  },
  {
   "cell_type": "code",
   "execution_count": null,
   "id": "3768b8c8-0277-4669-b71d-6c7903a50af3",
   "metadata": {},
   "outputs": [],
   "source": []
  }
 ],
 "metadata": {
  "kernelspec": {
   "display_name": "ga-ai-eda",
   "language": "python",
   "name": "ga-ai-eda"
  },
  "language_info": {
   "codemirror_mode": {
    "name": "ipython",
    "version": 3
   },
   "file_extension": ".py",
   "mimetype": "text/x-python",
   "name": "python",
   "nbconvert_exporter": "python",
   "pygments_lexer": "ipython3",
   "version": "3.9.12"
  }
 },
 "nbformat": 4,
 "nbformat_minor": 5
}
